{
 "cells": [
  {
   "attachments": {},
   "cell_type": "markdown",
   "metadata": {},
   "source": [
    "# Learning the basics of algo trading with Oanda"
   ]
  },
  {
   "cell_type": "code",
   "execution_count": 2,
   "metadata": {},
   "outputs": [],
   "source": [
    "# imports\n",
    "import requests\n",
    "import pandas as pd\n",
    "from dotenv import load_dotenv\n",
    "import os"
   ]
  },
  {
   "cell_type": "code",
   "execution_count": 20,
   "metadata": {},
   "outputs": [],
   "source": [
    "# load environment variables\n",
    "load_dotenv()\n",
    "\n",
    "OANDA_API_KEY = os.getenv(\"OANDA_API_KEY\")\n",
    "OANDA_ACCT_NUM = os.getenv(\"OANDA_ACCT_NUM\")\n",
    "OANDA_URL = os.getenv(\"OANDA_URL\")\n",
    "SECURE_HEADER = {\n",
    "    \"Authorization\": f\"Bearer {OANDA_API_KEY}\",\n",
    "}"
   ]
  },
  {
   "cell_type": "code",
   "execution_count": 21,
   "metadata": {},
   "outputs": [],
   "source": [
    "# create session\n",
    "session = requests.Session()"
   ]
  },
  {
   "cell_type": "code",
   "execution_count": 4,
   "metadata": {},
   "outputs": [],
   "source": [
    "# get instruments\n",
    "instruments_df = pd.read_pickle(\"instruments.pkl\") "
   ]
  },
  {
   "cell_type": "code",
   "execution_count": 24,
   "metadata": {},
   "outputs": [],
   "source": [
    "def fetch_candles(pair_name, count, granularity):\n",
    "   url = f\"{OANDA_URL}/v3/instruments/{pair_name}/candles\"\n",
    "   params = {\n",
    "       \"count\": count,\n",
    "       \"granularity\": granularity,\n",
    "       \"price\": \"MBA\"\n",
    "   }\n",
    "   response = session.get(url, headers=SECURE_HEADER, params=params)\n",
    "   return response.status_code, response.json()"
   ]
  },
  {
   "cell_type": "code",
   "execution_count": 25,
   "metadata": {},
   "outputs": [],
   "source": [
    "# test\n",
    "code, data = fetch_candles('EUR_USD', 10, 'H1')"
   ]
  },
  {
   "cell_type": "code",
   "execution_count": null,
   "metadata": {},
   "outputs": [],
   "source": [
    "data"
   ]
  },
  {
   "cell_type": "code",
   "execution_count": 29,
   "metadata": {},
   "outputs": [],
   "source": [
    "# build a dataframe\n",
    "def get_candles_df(data):\n",
    "    prices = ['mid', 'bid', 'ask']\n",
    "    ohlc = ['o', 'h', 'l', 'c']\n",
    "\n",
    "    our_data = []\n",
    "    for candle in data[\"candles\"]:\n",
    "        if candle[\"complete\"] == False:\n",
    "            continue\n",
    "        new_dict = {}\n",
    "        new_dict[\"time\"] = candle[\"time\"]\n",
    "        new_dict[\"volume\"] = candle[\"volume\"]\n",
    "        for price in prices:\n",
    "            for oh in ohlc:\n",
    "                new_dict[f\"{price}_{oh}\"] = candle[price][oh]\n",
    "        our_data.append(new_dict)\n",
    "    return pd.DataFrame.from_dict(our_data)"
   ]
  },
  {
   "cell_type": "code",
   "execution_count": null,
   "metadata": {},
   "outputs": [],
   "source": [
    "get_candles_df(data)"
   ]
  },
  {
   "cell_type": "code",
   "execution_count": 34,
   "metadata": {},
   "outputs": [],
   "source": [
    "def save_file(candles_df, pair, count, granularity) :\n",
    "    candles_df.to_pickle(f\"historical_data/{pair}_{granularity}_{count}.pkl\")"
   ]
  },
  {
   "cell_type": "code",
   "execution_count": 32,
   "metadata": {},
   "outputs": [],
   "source": [
    "def create_data(pair, count, granularity):\n",
    "    res_code, res_data = fetch_candles(pair, count, granularity)\n",
    "    if res_code != 200:\n",
    "        print(f\"Error fetching candles for {pair}\")\n",
    "        return\n",
    "    candles_df = get_candles_df(res_data)\n",
    "    print (f\"{pair} loaded {candles_df.shape[0]} candles from {candles_df.time.min()} to {candles_df.time.max()}\")\n",
    "    save_file(candles_df, pair, count, granularity)\n"
   ]
  },
  {
   "cell_type": "code",
   "execution_count": 35,
   "metadata": {},
   "outputs": [
    {
     "name": "stdout",
     "output_type": "stream",
     "text": [
      "EUR_USD loaded 3999 candles from 2023-01-15T23:00:00.000000000Z to 2023-09-05T12:00:00.000000000Z\n",
      "EUR_GBP loaded 3999 candles from 2023-01-15T23:00:00.000000000Z to 2023-09-05T12:00:00.000000000Z\n",
      "EUR_JPY loaded 3999 candles from 2023-01-15T23:00:00.000000000Z to 2023-09-05T12:00:00.000000000Z\n",
      "EUR_CHF loaded 3999 candles from 2023-01-15T23:00:00.000000000Z to 2023-09-05T12:00:00.000000000Z\n",
      "EUR_NZD loaded 3999 candles from 2023-01-15T22:00:00.000000000Z to 2023-09-05T12:00:00.000000000Z\n",
      "EUR_CAD loaded 3999 candles from 2023-01-15T23:00:00.000000000Z to 2023-09-05T12:00:00.000000000Z\n",
      "USD_JPY loaded 3999 candles from 2023-01-15T23:00:00.000000000Z to 2023-09-05T12:00:00.000000000Z\n",
      "USD_CHF loaded 3999 candles from 2023-01-15T23:00:00.000000000Z to 2023-09-05T12:00:00.000000000Z\n",
      "USD_CAD loaded 3999 candles from 2023-01-15T23:00:00.000000000Z to 2023-09-05T12:00:00.000000000Z\n",
      "GBP_USD loaded 3999 candles from 2023-01-15T23:00:00.000000000Z to 2023-09-05T12:00:00.000000000Z\n",
      "GBP_JPY loaded 3999 candles from 2023-01-15T23:00:00.000000000Z to 2023-09-05T12:00:00.000000000Z\n",
      "GBP_CHF loaded 3999 candles from 2023-01-15T23:00:00.000000000Z to 2023-09-05T12:00:00.000000000Z\n",
      "GBP_NZD loaded 3999 candles from 2023-01-15T22:00:00.000000000Z to 2023-09-05T12:00:00.000000000Z\n",
      "GBP_CAD loaded 3999 candles from 2023-01-15T23:00:00.000000000Z to 2023-09-05T12:00:00.000000000Z\n",
      "CHF_JPY loaded 3999 candles from 2023-01-15T23:00:00.000000000Z to 2023-09-05T12:00:00.000000000Z\n",
      "NZD_USD loaded 3999 candles from 2023-01-15T23:00:00.000000000Z to 2023-09-05T12:00:00.000000000Z\n",
      "NZD_JPY loaded 3999 candles from 2023-01-15T23:00:00.000000000Z to 2023-09-05T12:00:00.000000000Z\n",
      "NZD_CHF loaded 3999 candles from 2023-01-13T19:00:00.000000000Z to 2023-09-05T12:00:00.000000000Z\n",
      "NZD_CAD loaded 3999 candles from 2023-01-15T22:00:00.000000000Z to 2023-09-05T12:00:00.000000000Z\n",
      "CAD_JPY loaded 3999 candles from 2023-01-15T23:00:00.000000000Z to 2023-09-05T12:00:00.000000000Z\n",
      "CAD_CHF loaded 3999 candles from 2023-01-15T22:00:00.000000000Z to 2023-09-05T12:00:00.000000000Z\n"
     ]
    }
   ],
   "source": [
    "# currencies intersted in trading\n",
    "our_curr = ['EUR', 'USD', 'GBP', 'JPY', 'CHF', 'NZD', 'CAD']\n",
    "# test currencies\n",
    "for p1 in our_curr:\n",
    "    for p2 in our_curr:\n",
    "        pair = f\"{p1}_{p2}\"\n",
    "        if pair in instruments_df.name.unique():\n",
    "            create_data(pair, 4000, 'H1')"
   ]
  },
  {
   "cell_type": "code",
   "execution_count": null,
   "metadata": {},
   "outputs": [],
   "source": [
    "instruments_df.info()"
   ]
  },
  {
   "cell_type": "code",
   "execution_count": 8,
   "metadata": {},
   "outputs": [
    {
     "data": {
      "text/plain": [
       "Index(['name', 'type', 'display_name', 'pip_location', 'margin_rate'], dtype='object')"
      ]
     },
     "execution_count": 8,
     "metadata": {},
     "output_type": "execute_result"
    }
   ],
   "source": [
    "instruments_df.columns"
   ]
  },
  {
   "cell_type": "code",
   "execution_count": null,
   "metadata": {},
   "outputs": [],
   "source": [
    "instruments_df.name.unique()"
   ]
  },
  {
   "cell_type": "code",
   "execution_count": null,
   "metadata": {},
   "outputs": [],
   "source": []
  }
 ],
 "metadata": {
  "kernelspec": {
   "display_name": "env",
   "language": "python",
   "name": "python3"
  },
  "language_info": {
   "codemirror_mode": {
    "name": "ipython",
    "version": 3
   },
   "file_extension": ".py",
   "mimetype": "text/x-python",
   "name": "python",
   "nbconvert_exporter": "python",
   "pygments_lexer": "ipython3",
   "version": "3.11.3"
  },
  "orig_nbformat": 4
 },
 "nbformat": 4,
 "nbformat_minor": 2
}
